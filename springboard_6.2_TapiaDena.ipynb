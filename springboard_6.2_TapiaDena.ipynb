{
 "cells": [
  {
   "cell_type": "markdown",
   "metadata": {},
   "source": [
    "# What is the True Normal Human Body Temperature? \n",
    "\n",
    "#### Background\n",
    "\n",
    "The mean normal body temperature was held to be 37$^{\\circ}$C or 98.6$^{\\circ}$F for more than 120 years since it was first conceptualized and reported by Carl Wunderlich in a famous 1868 book. But, is this value statistically correct?"
   ]
  },
  {
   "cell_type": "markdown",
   "metadata": {},
   "source": [
    "<h3>Exercises</h3>\n",
    "\n",
    "<p>In this exercise, you will analyze a dataset of human body temperatures and employ the concepts of hypothesis testing, confidence intervals, and statistical significance.</p>\n",
    "\n",
    "<p>Answer the following questions <b>in this notebook below and submit to your Github account</b>.</p> \n",
    "\n",
    "<ol>\n",
    "<li>  Is the distribution of body temperatures normal? \n",
    "    <ul>\n",
    "    <li> Although this is not a requirement for the Central Limit Theorem to hold (read the introduction on Wikipedia's page about the CLT carefully: https://en.wikipedia.org/wiki/Central_limit_theorem), it gives us some peace of mind that the population may also be normally distributed if we assume that this sample is representative of the population.\n",
    "    <li> Think about the way you're going to check for the normality of the distribution. Graphical methods are usually used first, but there are also other ways: https://en.wikipedia.org/wiki/Normality_test\n",
    "    </ul>\n",
    "<li>  Is the sample size large? Are the observations independent?\n",
    "    <ul>\n",
    "    <li> Remember that this is a condition for the Central Limit Theorem, and hence the statistical tests we are using, to apply.\n",
    "    </ul>\n",
    "<li>  Is the true population mean really 98.6 degrees F?\n",
    "    <ul>\n",
    "    <li> First, try a bootstrap hypothesis test.\n",
    "    <li> Now, let's try frequentist statistical testing. Would you use a one-sample or two-sample test? Why?\n",
    "    <li> In this situation, is it appropriate to use the $t$ or $z$ statistic? \n",
    "    <li> Now try using the other test. How is the result be different? Why?\n",
    "    </ul>\n",
    "<li>  Draw a small sample of size 10 from the data and repeat both frequentist tests. \n",
    "    <ul>\n",
    "    <li> Which one is the correct one to use? \n",
    "    <li> What do you notice? What does this tell you about the difference in application of the $t$ and $z$ statistic?\n",
    "    </ul>\n",
    "<li>  At what temperature should we consider someone's temperature to be \"abnormal\"?\n",
    "    <ul>\n",
    "    <li> As in the previous example, try calculating everything using the boostrap approach, as well as the frequentist approach.\n",
    "    <li> Start by computing the margin of error and confidence interval. When calculating the confidence interval, keep in mind that you should use the appropriate formula for one draw, and not N draws.\n",
    "    </ul>\n",
    "<li>  Is there a significant difference between males and females in normal temperature?\n",
    "    <ul>\n",
    "    <li> What testing approach did you use and why?\n",
    "    <li> Write a story with your conclusion in the context of the original problem.\n",
    "    </ul>\n",
    "</ol>\n",
    "\n",
    "You can include written notes in notebook cells using Markdown: \n",
    "   - In the control panel at the top, choose Cell > Cell Type > Markdown\n",
    "   - Markdown syntax: http://nestacms.com/docs/creating-content/markdown-cheat-sheet\n",
    "\n",
    "#### Resources\n",
    "\n",
    "+ Information and data sources: http://www.amstat.org/publications/jse/datasets/normtemp.txt, http://www.amstat.org/publications/jse/jse_data_archive.htm\n",
    "+ Markdown syntax: http://nestacms.com/docs/creating-content/markdown-cheat-sheet\n",
    "\n",
    "****"
   ]
  },
  {
   "cell_type": "markdown",
   "metadata": {},
   "source": [
    "### 1. Is the distribution of body temperatures normal?\n",
    "Although the sample data does not follow a normal distribution perfectly, it is close enough based on visual inspection of the data plotted as a histogram with a normal curve overlayed and the results of an anderson-darling test for normality."
   ]
  },
  {
   "cell_type": "code",
   "execution_count": 23,
   "metadata": {},
   "outputs": [],
   "source": [
    "import pandas as pd\n",
    "\n",
    "df = pd.read_csv('data/human_body_temperature.csv')"
   ]
  },
  {
   "cell_type": "code",
   "execution_count": 24,
   "metadata": {},
   "outputs": [
    {
     "name": "stdout",
     "output_type": "stream",
     "text": [
      "<class 'pandas.core.frame.DataFrame'>\n",
      "RangeIndex: 130 entries, 0 to 129\n",
      "Data columns (total 3 columns):\n",
      "temperature    130 non-null float64\n",
      "gender         130 non-null object\n",
      "heart_rate     130 non-null float64\n",
      "dtypes: float64(2), object(1)\n",
      "memory usage: 3.1+ KB\n"
     ]
    }
   ],
   "source": [
    "import matplotlib.pyplot as plt\n",
    "import numpy as np\n",
    "from scipy.stats import norm, anderson, ttest_1samp, sem, t, ttest_ind\n",
    "from sklearn.utils import resample\n",
    "from statsmodels.stats.weightstats import ztest\n",
    "import random\n",
    "\n",
    "df.info()"
   ]
  },
  {
   "cell_type": "code",
   "execution_count": 25,
   "metadata": {},
   "outputs": [
    {
     "data": {
      "text/plain": [
       "[<matplotlib.lines.Line2D at 0x1a26441860>]"
      ]
     },
     "execution_count": 25,
     "metadata": {},
     "output_type": "execute_result"
    },
    {
     "data": {
      "image/png": "[encoded data removed]",
      "text/plain": [
       "<Figure size 432x288 with 1 Axes>"
      ]
     },
     "metadata": {
      "needs_background": "light"
     },
     "output_type": "display_data"
    }
   ],
   "source": [
    "# for visual inspection, create histogram of temperature with a normal curve overlayed\n",
    "plt.hist(df['temperature'], bins=11, density=True)\n",
    "\n",
    "# store sample data\n",
    "sample_mu = df['temperature'].mean()\n",
    "sample_sigma = df['temperature'].std()\n",
    "observations = df['temperature'].size\n",
    "x = np.linspace(sample_mu-3*sample_sigma, sample_mu+3*sample_sigma, 100)\n",
    "plt.plot(x, norm.pdf(x, sample_mu, sample_sigma))\n"
   ]
  },
  {
   "cell_type": "code",
   "execution_count": 26,
   "metadata": {},
   "outputs": [
    {
     "name": "stdout",
     "output_type": "stream",
     "text": [
      "AndersonResult(statistic=0.5201038826714353, critical_values=array([0.56 , 0.637, 0.765, 0.892, 1.061]), significance_level=array([15. , 10. ,  5. ,  2.5,  1. ]))\n"
     ]
    }
   ],
   "source": [
    "# Confirm visual inspection of normality using scipy stat's anderson-darling test\n",
    "print(anderson(df['temperature'], dist='norm'))"
   ]
  },
  {
   "cell_type": "markdown",
   "metadata": {},
   "source": [
    "### 2. Is the sample size large? Are the observations independent?\n",
    "There are 130 samples, including 65 female samples and 65 male samples.  The samples are considered independent, as there is no reason to believe the temperature of one person affects the temperature of another."
   ]
  },
  {
   "cell_type": "markdown",
   "metadata": {},
   "source": [
    "### 3. Is the true population mean really 98.6 degrees F?\n",
    "The true population mean is not 98.6 degrees F (null hypothesis).  Three hypothesis tests were performed to answer this question, including a bootstrap hypothesis test, one-sample z-test, and one-sample t-test.  All three provide p-values that are statistically significant, leading to rejection of the null hypothesis.  One-sample z-test and one-sample t-test versus two-sample or paired-sample tests were performed because we are comparing a sample mean to a known population mean (98.6 degrees). The z-test is used because the sample size is considered large enough to safely use the sample variance in lieu of the population variance, which is unknown.  In this case, due to the large sample size,  the t-test provides a p-value is close to the p-value provided under the t-test, and as mentioned previously, both lead to rejection of the null hypothesis."
   ]
  },
  {
   "cell_type": "code",
   "execution_count": 27,
   "metadata": {},
   "outputs": [
    {
     "name": "stdout",
     "output_type": "stream",
     "text": [
      "bootstrap p value:  0.0\n",
      "t-test p value:  2.4106320415561276e-07\n",
      "z-test p value:  4.9021570141012155e-08\n"
     ]
    }
   ],
   "source": [
    "np.random.seed(42)\n",
    "def get_bootstrap_replicate(data, func):\n",
    "    \"\"\"creates a bootstrap replicate with resampling, accepts a pandas series and a function\n",
    "    to calculate the test statistic as parameters and returns the bootstrap sample test statistic\"\"\"\n",
    "    \n",
    "    bootstrap_sample = np.random.choice(data, len(data))\n",
    "    return func(bootstrap_sample)\n",
    "\n",
    "\n",
    "def get_bootstrap_pvalue(obs_mean, shifted_data, func, size=100):\n",
    "    \"\"\"returns the p-value (1-tail) based on bootstrap replicates and takes as parameters the observation\n",
    "    mean, data shifted to the null hypothesis mean, function to calculate the test statistic, and size\n",
    "    or number of bootstrap replicates to use in determining the p-value\"\"\"\n",
    "    \n",
    "    bootstrap_samples = np.empty(size)\n",
    "    \n",
    "    # get bootstrap samples\n",
    "    for i in range(size):\n",
    "        bootstrap_samples[i] = get_bootstrap_replicate(shifted_data, np.mean)\n",
    "    \n",
    "    # need to multiple this by 2, since test is 'not equal'\n",
    "    bs_pvalue = (np.sum(bootstrap_samples <= obs_mean))/size\n",
    "    return bootstrap_samples, bs_pvalue\n",
    "\n",
    "\n",
    "def get_bootstrap_replicates(data, func, size=100):\n",
    "    \"\"\"creates n bootstrap replicates with resampling based on parameter size.  Accepts a pandas series and a function\n",
    "    to calculate the test statistic as parameters and returns the bootstrap sample test statistic\"\"\"\n",
    "    \n",
    "    bootstrap_samples = np.empty(size)\n",
    "    \n",
    "    # get bootstrap samples\n",
    "    for i in range(size):\n",
    "        bootstrap_samples[i] = get_bootstrap_replicate(data, np.mean)\n",
    "    \n",
    "    return bootstrap_samples\n",
    "\n",
    "\n",
    "# perform bootstrap test on the data using 10000 bootstrap replicates\n",
    "null_mean = 98.6\n",
    "temps_shifted = df['temperature'] - sample_mu + null_mean\n",
    "bs_samples, bs_pvalue = get_bootstrap_pvalue(df['temperature'].mean(), temps_shifted, np.mean, 10000)\n",
    "print('bootstrap p value: ', bs_pvalue)\n",
    "    \n",
    "# perform a one sample t_test \n",
    "tvalue, t_pvalue = ttest_1samp(df['temperature'], null_mean)\n",
    "print('t-test p value: ', t_pvalue)\n",
    "\n",
    "# perform a z-test\n",
    "z_tvalue, z_pvalue = ztest(df['temperature'], value=null_mean)\n",
    "print('z-test p value: ', z_pvalue)\n"
   ]
  },
  {
   "cell_type": "markdown",
   "metadata": {},
   "source": [
    "### 4. Draw a small sample of size 10 from the data and repeat both frequentist tests.\n",
    "\n",
    "With a small sample size of 10, the use of the z-test is no longer appropriate as the sample variance can no longer be used to approximate the population variance.  Erroneously using this test can lead to falsely rejecting the null hypothesis, a type I error.  Depending on the random sample of 10 below, this can be seen."
   ]
  },
  {
   "cell_type": "code",
   "execution_count": 28,
   "metadata": {},
   "outputs": [
    {
     "name": "stdout",
     "output_type": "stream",
     "text": [
      "\n",
      " REPEAT TESTS WITH SMALL SAMPLE:\n",
      "t-test p value with small sample:  0.31428668273507576\n",
      "z-test p value with small sample:  0.2865318560500928\n"
     ]
    }
   ],
   "source": [
    "# draw small sample of 10 and repeat t-test and z-test\n",
    "np_temps = np.asarray(df['temperature'])\n",
    "np.random.shuffle(np_temps)\n",
    "small_sample = np_temps[:10].tolist()\n",
    "print('\\n REPEAT TESTS WITH SMALL SAMPLE:')\n",
    "\n",
    "# the below shows that the t and z are off by a couple of hundredths, which could make the difference in acc/rej h0\n",
    "# t-test with small sample\n",
    "tvalue_ss, t_pvalue_ss = ttest_1samp(small_sample, null_mean)\n",
    "print('t-test p value with small sample: ', t_pvalue_ss)\n",
    "\n",
    "# z-test with small sample\n",
    "z_tvalue_ss, z_pvalue_ss = ztest(small_sample, value=null_mean)\n",
    "print('z-test p value with small sample: ', z_pvalue_ss)"
   ]
  },
  {
   "cell_type": "markdown",
   "metadata": {},
   "source": [
    "### 5. At what temperature should we consider someone's temperature to be \"abnormal\"?\n",
    "\n",
    "Tempertures below 98.08 degrees and above 98.4 degrees should be considered abnormal."
   ]
  },
  {
   "cell_type": "code",
   "execution_count": 29,
   "metadata": {},
   "outputs": [
    {
     "name": "stdout",
     "output_type": "stream",
     "text": [
      "[98.08615    98.41230769]\n"
     ]
    }
   ],
   "source": [
    "# confidence intervals\n",
    "\n",
    "# bootstrap confidence interval:\n",
    "bs_samples = get_bootstrap_replicates(df['temperature'], np.mean, 10000)\n",
    "bs_conf_int = np.percentile(bs_samples,[.5,99.5])\n",
    "print(bs_conf_int)"
   ]
  },
  {
   "cell_type": "code",
   "execution_count": 30,
   "metadata": {},
   "outputs": [
    {
     "name": "stdout",
     "output_type": "stream",
     "text": [
      "lower bound:  98.08028165510915 upper_bound:  98.41817988335241\n"
     ]
    }
   ],
   "source": [
    "# calculate confidence interval using t-distribution critical value\n",
    "conf = 0.99\n",
    "std_err = sem(df['temperature'])\n",
    "bound = std_err * t.ppf((1+conf)/2, sample_mu - 1)\n",
    "\n",
    "lower_bound = sample_mu - bound\n",
    "upper_bound = sample_mu + bound\n",
    "\n",
    "print('lower bound: ', lower_bound, 'upper_bound: ', upper_bound)"
   ]
  },
  {
   "cell_type": "markdown",
   "metadata": {},
   "source": [
    "### 6. Is there a significant difference between males and females in normal temperature?\n",
    "\n",
    "No.  A two-sample t-test was performed on the mean temperature for females and the mean temperature for males.  This two-sample t-test was appropriate given the small sample size (65 for each group) and because two group means are being compared to determine whether the difference between the two is signficantly significant.  The resulting p-value leads to no rejection of the null hypothesis that the two groups have the same mean."
   ]
  },
  {
   "cell_type": "code",
   "execution_count": 31,
   "metadata": {},
   "outputs": [
    {
     "name": "stdout",
     "output_type": "stream",
     "text": [
      "female samples:  65\n",
      "male samples:  65\n",
      "p value:  0.6684410026669072\n"
     ]
    }
   ],
   "source": [
    "female_temps = df[df['gender']=='F']['temperature']\n",
    "male_temps = df[df['gender']=='M']['temperature']\n",
    "\n",
    "print('female samples: ', female_temps.size)\n",
    "print('male samples: ', male_temps.size)\n",
    "\n",
    "t_stat, p_val = ttest_ind(female_temps, male_temps)\n",
    "\n",
    "print('p value: ', p_val)"
   ]
  },
  {
   "cell_type": "markdown",
   "metadata": {},
   "source": [
    "### Conclusion\n",
    "\n",
    "Although the mean normal body temperature has been widely accepted at 98.6 degrees F for more than 120 years, modern analysis using a sample of 130 individuals indicates this is not the correct value and that the mean is actually slightly lower.  Further, the analysis provided above shows that gender does not appear to have any affect on body temperature.\n"
   ]
  },
  {
   "cell_type": "code",
   "execution_count": null,
   "metadata": {},
   "outputs": [],
   "source": []
  }
 ],
 "metadata": {
  "kernelspec": {
   "display_name": "Python 3",
   "language": "python",
   "name": "python3"
  },
  "language_info": {
   "codemirror_mode": {
    "name": "ipython",
    "version": 3
   },
   "file_extension": ".py",
   "mimetype": "text/x-python",
   "name": "python",
   "nbconvert_exporter": "python",
   "pygments_lexer": "ipython3",
   "version": "3.7.0"
  }
 },
 "nbformat": 4,
 "nbformat_minor": 1
}
