{
 "cells": [
  {
   "cell_type": "markdown",
   "metadata": {},
   "source": [
    "# JSON examples and exercise\n",
    "****\n",
    "+ get familiar with packages for dealing with JSON\n",
    "+ study examples with JSON strings and files \n",
    "+ work on exercise to be completed and submitted \n",
    "****\n",
    "+ reference: http://pandas.pydata.org/pandas-docs/stable/io.html#io-json-reader\n",
    "+ data source: http://jsonstudio.com/resources/\n",
    "****"
   ]
  },
  {
   "cell_type": "code",
   "execution_count": null,
   "metadata": {},
   "outputs": [],
   "source": [
    "import pandas as pd"
   ]
  },
  {
   "cell_type": "markdown",
   "metadata": {},
   "source": [
    "## imports for Python, Pandas"
   ]
  },
  {
   "cell_type": "code",
   "execution_count": null,
   "metadata": {},
   "outputs": [],
   "source": [
    "import json\n",
    "from pandas.io.json import json_normalize"
   ]
  },
  {
   "cell_type": "markdown",
   "metadata": {},
   "source": [
    "## JSON example, with string\n",
    "\n",
    "+ demonstrates creation of normalized dataframes (tables) from nested json string\n",
    "+ source: http://pandas.pydata.org/pandas-docs/stable/io.html#normalization"
   ]
  },
  {
   "cell_type": "code",
   "execution_count": null,
   "metadata": {},
   "outputs": [],
   "source": [
    "# define json string\n",
    "data = [{'state': 'Florida', \n",
    "         'shortname': 'FL',\n",
    "         'info': {'governor': 'Rick Scott'},\n",
    "         'counties': [{'name': 'Dade', 'population': 12345},\n",
    "                      {'name': 'Broward', 'population': 40000},\n",
    "                      {'name': 'Palm Beach', 'population': 60000}]},\n",
    "        {'state': 'Ohio',\n",
    "         'shortname': 'OH',\n",
    "         'info': {'governor': 'John Kasich'},\n",
    "         'counties': [{'name': 'Summit', 'population': 1234},\n",
    "                      {'name': 'Cuyahoga', 'population': 1337}]}]"
   ]
  },
  {
   "cell_type": "code",
   "execution_count": null,
   "metadata": {},
   "outputs": [],
   "source": [
    "# use normalization to create tables from nested element\n",
    "json_normalize(data, 'counties')"
   ]
  },
  {
   "cell_type": "code",
   "execution_count": null,
   "metadata": {},
   "outputs": [],
   "source": [
    "# further populate tables created from nested element\n",
    "json_normalize(data, 'counties', ['state', 'shortname', ['info', 'governor']])"
   ]
  },
  {
   "cell_type": "markdown",
   "metadata": {},
   "source": [
    "****\n",
    "## JSON example, with file\n",
    "\n",
    "+ demonstrates reading in a json file as a string and as a table\n",
    "+ uses small sample file containing data about projects funded by the World Bank \n",
    "+ data source: http://jsonstudio.com/resources/"
   ]
  },
  {
   "cell_type": "code",
   "execution_count": null,
   "metadata": {},
   "outputs": [],
   "source": [
    "# load json as string\n",
    "json.load((open('data/world_bank_projects_less.json')))"
   ]
  },
  {
   "cell_type": "code",
   "execution_count": null,
   "metadata": {},
   "outputs": [],
   "source": [
    "# load as Pandas dataframe\n",
    "sample_json_df = pd.read_json('data/world_bank_projects_less.json')\n",
    "sample_json_df"
   ]
  },
  {
   "cell_type": "markdown",
   "metadata": {},
   "source": [
    "****\n",
    "## JSON exercise\n",
    "\n",
    "Using data in file 'data/world_bank_projects.json' and the techniques demonstrated above,\n",
    "1. Find the 10 countries with most projects\n",
    "2. Find the top 10 major project themes (using column 'mjtheme_namecode')\n",
    "3. In 2. above you will notice that some entries have only the code and the name is missing. Create a dataframe with the missing names filled in."
   ]
  },
  {
   "cell_type": "code",
   "execution_count": 2,
   "metadata": {},
   "outputs": [
    {
     "name": "stdout",
     "output_type": "stream",
     "text": [
      "                                             _id  approvalfy  \\\n",
      "countrycode countryname                                        \n",
      "CN          People's Republic of China        19          19   \n",
      "ID          Republic of Indonesia             19          19   \n",
      "VN          Socialist Republic of Vietnam     17          17   \n",
      "IN          Republic of India                 16          16   \n",
      "RY          Republic of Yemen                 13          13   \n",
      "BD          People's Republic of Bangladesh   12          12   \n",
      "MA          Kingdom of Morocco                12          12   \n",
      "NP          Nepal                             12          12   \n",
      "3A          Africa                            11          11   \n",
      "MZ          Republic of Mozambique            11          11   \n",
      "\n",
      "                                             board_approval_month  \\\n",
      "countrycode countryname                                             \n",
      "CN          People's Republic of China                         19   \n",
      "ID          Republic of Indonesia                              19   \n",
      "VN          Socialist Republic of Vietnam                      17   \n",
      "IN          Republic of India                                  16   \n",
      "RY          Republic of Yemen                                  13   \n",
      "BD          People's Republic of Bangladesh                    12   \n",
      "MA          Kingdom of Morocco                                 12   \n",
      "NP          Nepal                                              12   \n",
      "3A          Africa                                             11   \n",
      "MZ          Republic of Mozambique                             11   \n",
      "\n",
      "                                             boardapprovaldate  borrower  \\\n",
      "countrycode countryname                                                    \n",
      "CN          People's Republic of China                      19        19   \n",
      "ID          Republic of Indonesia                           19        19   \n",
      "VN          Socialist Republic of Vietnam                   17        17   \n",
      "IN          Republic of India                               16        15   \n",
      "RY          Republic of Yemen                               13        13   \n",
      "BD          People's Republic of Bangladesh                 12        12   \n",
      "MA          Kingdom of Morocco                              12        12   \n",
      "NP          Nepal                                           12        11   \n",
      "3A          Africa                                          11        11   \n",
      "MZ          Republic of Mozambique                          11        11   \n",
      "\n",
      "                                             closingdate  country_namecode  \\\n",
      "countrycode countryname                                                      \n",
      "CN          People's Republic of China                16                19   \n",
      "ID          Republic of Indonesia                     15                19   \n",
      "VN          Socialist Republic of Vietnam             14                17   \n",
      "IN          Republic of India                         13                16   \n",
      "RY          Republic of Yemen                          8                13   \n",
      "BD          People's Republic of Bangladesh           10                12   \n",
      "MA          Kingdom of Morocco                        11                12   \n",
      "NP          Nepal                                      7                12   \n",
      "3A          Africa                                     7                11   \n",
      "MZ          Republic of Mozambique                     9                11   \n",
      "\n",
      "                                             countryshortname  docty  \\\n",
      "countrycode countryname                                                \n",
      "CN          People's Republic of China                     19     19   \n",
      "ID          Republic of Indonesia                          19     14   \n",
      "VN          Socialist Republic of Vietnam                  17     16   \n",
      "IN          Republic of India                              16     16   \n",
      "RY          Republic of Yemen                              13     11   \n",
      "BD          People's Republic of Bangladesh                12     12   \n",
      "MA          Kingdom of Morocco                             12     10   \n",
      "NP          Nepal                                          12     12   \n",
      "3A          Africa                                         11     10   \n",
      "MZ          Republic of Mozambique                         11     10   \n",
      "\n",
      "                                             envassesmentcategorycode ...   \\\n",
      "countrycode countryname                                               ...    \n",
      "CN          People's Republic of China                             19 ...    \n",
      "ID          Republic of Indonesia                                  16 ...    \n",
      "VN          Socialist Republic of Vietnam                          13 ...    \n",
      "IN          Republic of India                                      15 ...    \n",
      "RY          Republic of Yemen                                      13 ...    \n",
      "BD          People's Republic of Bangladesh                        12 ...    \n",
      "MA          Kingdom of Morocco                                      7 ...    \n",
      "NP          Nepal                                                  11 ...    \n",
      "3A          Africa                                                 11 ...    \n",
      "MZ          Republic of Mozambique                                  8 ...    \n",
      "\n",
      "                                             sectorcode  source  status  \\\n",
      "countrycode countryname                                                   \n",
      "CN          People's Republic of China               19      19      19   \n",
      "ID          Republic of Indonesia                    19      19      19   \n",
      "VN          Socialist Republic of Vietnam            17      17      17   \n",
      "IN          Republic of India                        16      16      16   \n",
      "RY          Republic of Yemen                        13      13      13   \n",
      "BD          People's Republic of Bangladesh          12      12      12   \n",
      "MA          Kingdom of Morocco                       12      12      12   \n",
      "NP          Nepal                                    12      12      12   \n",
      "3A          Africa                                   11      11      11   \n",
      "MZ          Republic of Mozambique                   11      11      11   \n",
      "\n",
      "                                             supplementprojectflg  theme1  \\\n",
      "countrycode countryname                                                     \n",
      "CN          People's Republic of China                         19      19   \n",
      "ID          Republic of Indonesia                              19      19   \n",
      "VN          Socialist Republic of Vietnam                      16      17   \n",
      "IN          Republic of India                                  16      16   \n",
      "RY          Republic of Yemen                                  13      13   \n",
      "BD          People's Republic of Bangladesh                    12      12   \n",
      "MA          Kingdom of Morocco                                 12      12   \n",
      "NP          Nepal                                              12      12   \n",
      "3A          Africa                                             11      11   \n",
      "MZ          Republic of Mozambique                             11      11   \n",
      "\n",
      "                                             theme_namecode  themecode  \\\n",
      "countrycode countryname                                                  \n",
      "CN          People's Republic of China                   17         17   \n",
      "ID          Republic of Indonesia                        19         19   \n",
      "VN          Socialist Republic of Vietnam                17         17   \n",
      "IN          Republic of India                            16         16   \n",
      "RY          Republic of Yemen                            13         13   \n",
      "BD          People's Republic of Bangladesh              12         12   \n",
      "MA          Kingdom of Morocco                           11         11   \n",
      "NP          Nepal                                        11         11   \n",
      "3A          Africa                                       11         11   \n",
      "MZ          Republic of Mozambique                       11         11   \n",
      "\n",
      "                                             totalamt  totalcommamt  url  \n",
      "countrycode countryname                                                   \n",
      "CN          People's Republic of China             19            19   19  \n",
      "ID          Republic of Indonesia                  19            19   19  \n",
      "VN          Socialist Republic of Vietnam          17            17   17  \n",
      "IN          Republic of India                      16            16   16  \n",
      "RY          Republic of Yemen                      13            13   13  \n",
      "BD          People's Republic of Bangladesh        12            12   12  \n",
      "MA          Kingdom of Morocco                     12            12   12  \n",
      "NP          Nepal                                  12            12   12  \n",
      "3A          Africa                                 11            11   11  \n",
      "MZ          Republic of Mozambique                 11            11   11  \n",
      "\n",
      "[10 rows x 48 columns]\n"
     ]
    }
   ],
   "source": [
    "import pandas as pd\n",
    "import numpy as np\n",
    "import json\n",
    "from pandas.io.json import json_normalize\n",
    "\n",
    "#1. The 10 countries with the most projects:\n",
    "\n",
    "#load the json data into a dataframe: world_bank_projects_df\n",
    "world_bank_projects_df = pd.read_json('data/world_bank_projects.json')\n",
    "\n",
    "#create mostProjects dataframe consisting of top 10 countries based on number of times a country is listed in world_bank_projects_df\n",
    "mostProjects = world_bank_projects_df.groupby(['countrycode', 'countryname']).agg('count').nlargest(10, '_id')\n",
    "print(mostProjects)"
   ]
  },
  {
   "cell_type": "code",
   "execution_count": 3,
   "metadata": {},
   "outputs": [
    {
     "name": "stdout",
     "output_type": "stream",
     "text": [
      "Unique Values: \n",
      "       code  name\n",
      "code            \n",
      "1        1     2\n",
      "10       1     2\n",
      "11       1     2\n",
      "2        1     2\n",
      "3        1     2\n",
      "4        1     2\n",
      "5        1     2\n",
      "6        1     2\n",
      "7        1     2\n",
      "8        1     2\n",
      "9        1     2\n",
      "\n",
      "      name\n",
      "code      \n",
      "11     250\n",
      "10     216\n",
      "8      210\n",
      "2      199\n",
      "6      168\n",
      "4      146\n",
      "7      130\n",
      "5       77\n",
      "9       50\n",
      "1       38\n"
     ]
    }
   ],
   "source": [
    "#2. Find the top 10 major project themes (using column 'mjtheme_namecode')\n",
    "\n",
    "#First, look at the top 10 major project themes by project code:\n",
    "#load json into string world_bank_projects_string, then create dataframe\n",
    "world_bank_projects_string = json.load((open('data/world_bank_projects.json')))\n",
    "\n",
    "project_themes_codes = json_normalize(world_bank_projects_string, 'mjtheme_namecode')\n",
    "\n",
    "#review the number of unique codes and names\n",
    "project_themes_codes_unique = project_themes_codes.groupby('code').nunique()\n",
    "print(\"Unique Values: \\n\", project_themes_codes_unique)\n",
    "\n",
    "#groupby and count number of times code is used in the world_bank_projects, store in project_themes_code dataframe\n",
    "project_themes_codes = project_themes_codes.groupby('code').agg('count').nlargest(10, 'name')\n",
    "\n",
    "print(project_themes_codes)\n"
   ]
  },
  {
   "cell_type": "code",
   "execution_count": 13,
   "metadata": {
    "scrolled": true
   },
   "outputs": [
    {
     "name": "stdout",
     "output_type": "stream",
     "text": [
      "                                              code\n",
      "name                                              \n",
      "Environment and natural resources management   223\n",
      "Rural development                              202\n",
      "Human development                              197\n",
      "Public sector governance                       184\n",
      "Social protection and risk management          158\n",
      "Financial and private sector development       130\n",
      "                                               122\n",
      "Social dev/gender/inclusion                    119\n",
      "Trade and integration                           72\n",
      "Urban development                               47\n"
     ]
    }
   ],
   "source": [
    "#Now, look at the top 10 major theme by project name:\n",
    "#create dataframe of theme name and codes\n",
    "project_themes_names = json_normalize(world_bank_projects_string, 'mjtheme_namecode')\n",
    "\n",
    "#groupby and count number of times name is used in the world_bank_projects, store in project_themes_names dataframe\n",
    "project_themes_names = project_themes_names.groupby('name').agg('count').nlargest(10, 'code')\n",
    "\n",
    "print(project_themes_names)"
   ]
  },
  {
   "cell_type": "code",
   "execution_count": 23,
   "metadata": {},
   "outputs": [
    {
     "name": "stdout",
     "output_type": "stream",
     "text": [
      "   code                                          name\n",
      "0     1                           Economic management\n",
      "1    11  Environment and natural resources management\n",
      "2     4      Financial and private sector development\n",
      "3     8                             Human development\n",
      "4     2                      Public sector governance\n",
      "5     3                                   Rule of law\n",
      "6    10                             Rural development\n",
      "7     7                   Social dev/gender/inclusion\n",
      "8     6         Social protection and risk management\n",
      "9     5                         Trade and integration\n",
      "10    9                             Urban development\n"
     ]
    }
   ],
   "source": [
    "#Based on the top 10 by code and top 10 by name and the unique values for codes and names, it is clear there \n",
    "#are both blank and non-blank name values associated with the codes.  \n",
    "#To resolve this, create a lookup table (dataframe) that can be used to associate codes and names, prior \n",
    "#to finding the top 10 major themes\n",
    "\n",
    "#create dataframe of mjtheme_namecode\n",
    "project_themes = json_normalize(world_bank_projects_string, 'mjtheme_namecode')\n",
    "\n",
    "#remove the duplicates and sort alphabetically by name\n",
    "project_themes = project_themes.drop_duplicates().sort_values(by='name')\n",
    "\n",
    "#replace blank names with np.nan\n",
    "project_themes['name'].replace('', np.nan, inplace=True)\n",
    "\n",
    "#drop rows where name column contains nan\n",
    "project_themes.dropna(subset=['name'], inplace=True)\n",
    "\n",
    "#reset index of the new dataframe/lookup table\n",
    "project_themes.reset_index(drop=True, inplace=True)\n",
    "\n",
    "print(project_themes)"
   ]
  },
  {
   "cell_type": "code",
   "execution_count": 64,
   "metadata": {},
   "outputs": [
    {
     "name": "stdout",
     "output_type": "stream",
     "text": [
      "                                           name  count\n",
      "0  Environment and natural resources management    250\n",
      "1                             Rural development    216\n",
      "2                             Human development    210\n",
      "3                      Public sector governance    199\n",
      "4         Social protection and risk management    168\n",
      "5      Financial and private sector development    146\n",
      "6                   Social dev/gender/inclusion    130\n",
      "7                         Trade and integration     77\n",
      "8                             Urban development     50\n",
      "9                           Economic management     38\n"
     ]
    }
   ],
   "source": [
    "#now, recreate the dataframe of top 10 themes, using the lookup table:\n",
    "\n",
    "#recreate project_themes_names dataframe from the nested mjtheme_namecode\n",
    "project_themes_names = json_normalize(world_bank_projects_string, 'mjtheme_namecode')\n",
    "\n",
    "#merge project_themes_names dataframe with the project_themes lookup table to get codes and names matched up\n",
    "top_10_themes = pd.merge(project_themes_names, project_themes, how='inner', on=['code', 'code'])\n",
    "\n",
    "#keep all codes and names only from the lookup dataframe\n",
    "top_10_themes = top_10_themes[['code', 'name_y']]\n",
    "\n",
    "#groupby name_y and sort descending by count, rename columns\n",
    "top_10_themes = top_10_themes.groupby(['name_y']).size().sort_values(ascending=False).reset_index()\n",
    "top_10_themes.columns = ['name', 'count']\n",
    "\n",
    "#keep only the top 10 themes\n",
    "top_10_themes = top_10_themes.nlargest(10, 'count')\n",
    "\n",
    "print(top_10_themes)"
   ]
  },
  {
   "cell_type": "code",
   "execution_count": null,
   "metadata": {},
   "outputs": [],
   "source": []
  }
 ],
 "metadata": {
  "kernelspec": {
   "display_name": "Python 3",
   "language": "python",
   "name": "python3"
  },
  "language_info": {
   "codemirror_mode": {
    "name": "ipython",
    "version": 3
   },
   "file_extension": ".py",
   "mimetype": "text/x-python",
   "name": "python",
   "nbconvert_exporter": "python",
   "pygments_lexer": "ipython3",
   "version": "3.7.0"
  }
 },
 "nbformat": 4,
 "nbformat_minor": 1
}
