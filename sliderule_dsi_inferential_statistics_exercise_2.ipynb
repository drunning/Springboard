{
 "cells": [
  {
   "cell_type": "markdown",
   "metadata": {},
   "source": [
    "# Examining Racial Discrimination in the US Job Market\n",
    "\n",
    "### Background\n",
    "Racial discrimination continues to be pervasive in cultures throughout the world. Researchers examined the level of racial discrimination in the United States labor market by randomly assigning identical résumés to black-sounding or white-sounding names and observing the impact on requests for interviews from employers.\n",
    "\n",
    "### Data\n",
    "In the dataset provided, each row represents a resume. The 'race' column has two values, 'b' and 'w', indicating black-sounding and white-sounding. The column 'call' has two values, 1 and 0, indicating whether the resume received a call from employers or not.\n",
    "\n",
    "Note that the 'b' and 'w' values in race are assigned randomly to the resumes when presented to the employer."
   ]
  },
  {
   "cell_type": "markdown",
   "metadata": {},
   "source": [
    "### Exercises\n",
    "You will perform a statistical analysis to establish whether race has a significant impact on the rate of callbacks for resumes.\n",
    "\n",
    "Answer the following questions **in this notebook below and submit to your Github account**. \n",
    "\n",
    "   1. What test is appropriate for this problem? Does CLT apply?\n",
    "   2. What are the null and alternate hypotheses?\n",
    "   3. Compute margin of error, confidence interval, and p-value. Try using both the bootstrapping and the frequentist statistical approaches.\n",
    "   4. Write a story describing the statistical significance in the context or the original problem.\n",
    "   5. Does your analysis mean that race/name is the most important factor in callback success? Why or why not? If not, how would you amend your analysis?\n",
    "\n",
    "You can include written notes in notebook cells using Markdown: \n",
    "   - In the control panel at the top, choose Cell > Cell Type > Markdown\n",
    "   - Markdown syntax: http://nestacms.com/docs/creating-content/markdown-cheat-sheet\n",
    "\n",
    "#### Resources\n",
    "+ Experiment information and data source: http://www.povertyactionlab.org/evaluation/discrimination-job-market-united-states\n",
    "+ Scipy statistical methods: http://docs.scipy.org/doc/scipy/reference/stats.html \n",
    "+ Markdown syntax: http://nestacms.com/docs/creating-content/markdown-cheat-sheet\n",
    "+ Formulas for the Bernoulli distribution: https://en.wikipedia.org/wiki/Bernoulli_distribution"
   ]
  },
  {
   "cell_type": "code",
   "execution_count": 1,
   "metadata": {},
   "outputs": [],
   "source": [
    "import pandas as pd\n",
    "import numpy as np\n",
    "from scipy import stats\n",
    "import os"
   ]
  },
  {
   "cell_type": "code",
   "execution_count": 2,
   "metadata": {},
   "outputs": [],
   "source": [
    "data = pd.io.stata.read_stata('data/us_job_market_discrimination.dta')"
   ]
  },
  {
   "cell_type": "code",
   "execution_count": 3,
   "metadata": {},
   "outputs": [
    {
     "data": {
      "text/html": [
       "<div>\n",
       "<style scoped>\n",
       "    .dataframe tbody tr th:only-of-type {\n",
       "        vertical-align: middle;\n",
       "    }\n",
       "\n",
       "    .dataframe tbody tr th {\n",
       "        vertical-align: top;\n",
       "    }\n",
       "\n",
       "    .dataframe thead th {\n",
       "        text-align: right;\n",
       "    }\n",
       "</style>\n",
       "<table border=\"1\" class=\"dataframe\">\n",
       "  <thead>\n",
       "    <tr style=\"text-align: right;\">\n",
       "      <th></th>\n",
       "      <th>id</th>\n",
       "      <th>ad</th>\n",
       "      <th>education</th>\n",
       "      <th>ofjobs</th>\n",
       "      <th>yearsexp</th>\n",
       "      <th>honors</th>\n",
       "      <th>volunteer</th>\n",
       "      <th>military</th>\n",
       "      <th>empholes</th>\n",
       "      <th>occupspecific</th>\n",
       "      <th>...</th>\n",
       "      <th>compreq</th>\n",
       "      <th>orgreq</th>\n",
       "      <th>manuf</th>\n",
       "      <th>transcom</th>\n",
       "      <th>bankreal</th>\n",
       "      <th>trade</th>\n",
       "      <th>busservice</th>\n",
       "      <th>othservice</th>\n",
       "      <th>missind</th>\n",
       "      <th>ownership</th>\n",
       "    </tr>\n",
       "  </thead>\n",
       "  <tbody>\n",
       "    <tr>\n",
       "      <th>0</th>\n",
       "      <td>b</td>\n",
       "      <td>1</td>\n",
       "      <td>4</td>\n",
       "      <td>2</td>\n",
       "      <td>6</td>\n",
       "      <td>0</td>\n",
       "      <td>0</td>\n",
       "      <td>0</td>\n",
       "      <td>1</td>\n",
       "      <td>17</td>\n",
       "      <td>...</td>\n",
       "      <td>1.0</td>\n",
       "      <td>0.0</td>\n",
       "      <td>1.0</td>\n",
       "      <td>0.0</td>\n",
       "      <td>0.0</td>\n",
       "      <td>0.0</td>\n",
       "      <td>0.0</td>\n",
       "      <td>0.0</td>\n",
       "      <td>0.0</td>\n",
       "      <td></td>\n",
       "    </tr>\n",
       "    <tr>\n",
       "      <th>1</th>\n",
       "      <td>b</td>\n",
       "      <td>1</td>\n",
       "      <td>3</td>\n",
       "      <td>3</td>\n",
       "      <td>6</td>\n",
       "      <td>0</td>\n",
       "      <td>1</td>\n",
       "      <td>1</td>\n",
       "      <td>0</td>\n",
       "      <td>316</td>\n",
       "      <td>...</td>\n",
       "      <td>1.0</td>\n",
       "      <td>0.0</td>\n",
       "      <td>1.0</td>\n",
       "      <td>0.0</td>\n",
       "      <td>0.0</td>\n",
       "      <td>0.0</td>\n",
       "      <td>0.0</td>\n",
       "      <td>0.0</td>\n",
       "      <td>0.0</td>\n",
       "      <td></td>\n",
       "    </tr>\n",
       "    <tr>\n",
       "      <th>2</th>\n",
       "      <td>b</td>\n",
       "      <td>1</td>\n",
       "      <td>4</td>\n",
       "      <td>1</td>\n",
       "      <td>6</td>\n",
       "      <td>0</td>\n",
       "      <td>0</td>\n",
       "      <td>0</td>\n",
       "      <td>0</td>\n",
       "      <td>19</td>\n",
       "      <td>...</td>\n",
       "      <td>1.0</td>\n",
       "      <td>0.0</td>\n",
       "      <td>1.0</td>\n",
       "      <td>0.0</td>\n",
       "      <td>0.0</td>\n",
       "      <td>0.0</td>\n",
       "      <td>0.0</td>\n",
       "      <td>0.0</td>\n",
       "      <td>0.0</td>\n",
       "      <td></td>\n",
       "    </tr>\n",
       "    <tr>\n",
       "      <th>3</th>\n",
       "      <td>b</td>\n",
       "      <td>1</td>\n",
       "      <td>3</td>\n",
       "      <td>4</td>\n",
       "      <td>6</td>\n",
       "      <td>0</td>\n",
       "      <td>1</td>\n",
       "      <td>0</td>\n",
       "      <td>1</td>\n",
       "      <td>313</td>\n",
       "      <td>...</td>\n",
       "      <td>1.0</td>\n",
       "      <td>0.0</td>\n",
       "      <td>1.0</td>\n",
       "      <td>0.0</td>\n",
       "      <td>0.0</td>\n",
       "      <td>0.0</td>\n",
       "      <td>0.0</td>\n",
       "      <td>0.0</td>\n",
       "      <td>0.0</td>\n",
       "      <td></td>\n",
       "    </tr>\n",
       "    <tr>\n",
       "      <th>4</th>\n",
       "      <td>b</td>\n",
       "      <td>1</td>\n",
       "      <td>3</td>\n",
       "      <td>3</td>\n",
       "      <td>22</td>\n",
       "      <td>0</td>\n",
       "      <td>0</td>\n",
       "      <td>0</td>\n",
       "      <td>0</td>\n",
       "      <td>313</td>\n",
       "      <td>...</td>\n",
       "      <td>1.0</td>\n",
       "      <td>1.0</td>\n",
       "      <td>0.0</td>\n",
       "      <td>0.0</td>\n",
       "      <td>0.0</td>\n",
       "      <td>0.0</td>\n",
       "      <td>0.0</td>\n",
       "      <td>1.0</td>\n",
       "      <td>0.0</td>\n",
       "      <td>Nonprofit</td>\n",
       "    </tr>\n",
       "  </tbody>\n",
       "</table>\n",
       "<p>5 rows × 65 columns</p>\n",
       "</div>"
      ],
      "text/plain": [
       "  id ad  education  ofjobs  yearsexp  honors  volunteer  military  empholes  \\\n",
       "0  b  1          4       2         6       0          0         0         1   \n",
       "1  b  1          3       3         6       0          1         1         0   \n",
       "2  b  1          4       1         6       0          0         0         0   \n",
       "3  b  1          3       4         6       0          1         0         1   \n",
       "4  b  1          3       3        22       0          0         0         0   \n",
       "\n",
       "   occupspecific  ...  compreq  orgreq  manuf  transcom  bankreal trade  \\\n",
       "0             17  ...      1.0     0.0    1.0       0.0       0.0   0.0   \n",
       "1            316  ...      1.0     0.0    1.0       0.0       0.0   0.0   \n",
       "2             19  ...      1.0     0.0    1.0       0.0       0.0   0.0   \n",
       "3            313  ...      1.0     0.0    1.0       0.0       0.0   0.0   \n",
       "4            313  ...      1.0     1.0    0.0       0.0       0.0   0.0   \n",
       "\n",
       "  busservice othservice  missind  ownership  \n",
       "0        0.0        0.0      0.0             \n",
       "1        0.0        0.0      0.0             \n",
       "2        0.0        0.0      0.0             \n",
       "3        0.0        0.0      0.0             \n",
       "4        0.0        1.0      0.0  Nonprofit  \n",
       "\n",
       "[5 rows x 65 columns]"
      ]
     },
     "execution_count": 3,
     "metadata": {},
     "output_type": "execute_result"
    }
   ],
   "source": [
    "data.head()"
   ]
  },
  {
   "cell_type": "code",
   "execution_count": 4,
   "metadata": {
    "scrolled": true
   },
   "outputs": [
    {
     "name": "stdout",
     "output_type": "stream",
     "text": [
      "w sum 235.0 2435\n",
      "b sum 157.0 2435\n"
     ]
    }
   ],
   "source": [
    "# get datasets for white resumes and black resumes\n",
    "w = data[data.race=='w']\n",
    "b = data[data.race=='b']\n",
    "\n",
    "# number of callbacks for black-sounding names\n",
    "callback_w = sum(data[data.race=='w'].call)\n",
    "callback_b = sum(data[data.race=='b'].call)\n",
    "\n",
    "# total black and white assigned resumes\n",
    "count_w = len(data[data.race=='w'])\n",
    "count_b = len(data[data.race=='b'])\n",
    "\n",
    "# rate of callback for white and black sounding names\n",
    "rate_w = callback_w/count_w\n",
    "rate_b = callback_b/count_b\n",
    "rate_diff = rate_w-rate_b\n",
    "\n",
    "print('w sum', callback_w, count_w)\n",
    "print('b sum', callback_b, count_b)"
   ]
  },
  {
   "cell_type": "markdown",
   "metadata": {
    "collapsed": true
   },
   "source": [
    "<div class=\"span5 alert alert-success\">\n",
    "<p>Your answers to Q1 and Q2 here</p>\n",
    "</div>"
   ]
  },
  {
   "cell_type": "markdown",
   "metadata": {},
   "source": [
    "1. The difference in proportions is the test statistic.  The Z-test statistic (for the difference between proportions) should be used.  Since the datasets have binomial distributions, the p-value can be approximated using the normal distribution.  The CLT does apply in this case.\n",
    "\n",
    "2. \n",
    "H0: Race does not have a significant impact on the rate of callbacks for resumes.  The difference in callback rate for white sounding names versus black sounding names is <= 0 (w-b <= 0) <br>\n",
    "H1: Race has a significant impact on the rate of callbacks for resumes.  The difference in callback rate for white sounding names versus black sounding names is > 0 (w-b > 0)\n"
   ]
  },
  {
   "cell_type": "markdown",
   "metadata": {
    "collapsed": true
   },
   "source": [
    "<div class=\"span5 alert alert-success\">\n",
    "<p>Solution to Q3</p>\n",
    "</div>"
   ]
  },
  {
   "cell_type": "code",
   "execution_count": 5,
   "metadata": {},
   "outputs": [],
   "source": [
    "#confidence interval and p-value using permutation:"
   ]
  },
  {
   "cell_type": "code",
   "execution_count": 6,
   "metadata": {},
   "outputs": [],
   "source": [
    "from sklearn.utils import resample"
   ]
  },
  {
   "cell_type": "code",
   "execution_count": 45,
   "metadata": {},
   "outputs": [],
   "source": [
    "def permutation_sample(data1, data2, size=10):\n",
    "    \"\"\"Generate a permutation sample from two data sets.\"\"\"\n",
    "    \n",
    "    perm_replicates = np.empty(size)\n",
    "    \n",
    "    for i in range(size):\n",
    "        # Generate permutation sample\n",
    "        data = np.concatenate((data1.call,data2.call))\n",
    "        # Permute the concatenated array: permuted_data\n",
    "        permuted_data = np.random.permutation(data)\n",
    "\n",
    "        # Split the permuted array into two: perm_sample_1, perm_sample_2\n",
    "        perm_sample_1 = permuted_data[:len(data1)]\n",
    "        perm_sample_2 = permuted_data[len(data1):]\n",
    "\n",
    "        p1 = perm_sample_1.sum()/len(data1)\n",
    "        p2 = perm_sample_2.sum()/len(data2)\n",
    "        diff = p1-p2\n",
    "        \n",
    "        perm_replicates[i] = diff\n",
    "\n",
    "    return perm_replicates\n",
    "\n",
    "\n",
    "def bootstrap_confidence_interval(data1, data2, size=10000, alpha=.05):\n",
    "    \"\"\"Generate a confidence interval based on bootstrap samples of each individual dataset, return the \n",
    "    lower and upper bound of a 1-alpha% confidence interval\"\"\"\n",
    "\n",
    "    bs_replicates = np.empty(size)\n",
    "    \n",
    "    for i in range(size):\n",
    "        # resample each of the datasets\n",
    "        data1_resample, data2_resample = resample(data1, data2)\n",
    "        p1 = data1_resample.call.sum()/len(data1)\n",
    "        p2 = data2_resample.call.sum()/len(data2)\n",
    "        # compute difference in resampled proportions\n",
    "        diff = p1-p2\n",
    "        \n",
    "        bs_replicates[i] = diff\n",
    "    \n",
    "    # compute the confidence interval using the percentile method\n",
    "    lower=alpha/2*100\n",
    "    upper=100-alpha/2*100\n",
    "    conf_int = np.percentile(bs_replicates, [lower,upper])\n",
    "    \n",
    "    return conf_int\n",
    "        \n",
    "\n",
    "def bootstrap_sample(data1, data2, size=10000):\n",
    "    \"\"\"Generate bootstrap replicates based on bootstrap resamples for combined dataset, return array\n",
    "    of difference in proportions, based on the resampled data\"\"\"\n",
    "    bs_replicates = np.empty(size)\n",
    "    \n",
    "    # combine the data\n",
    "    data = np.concatenate((data1.call,data2.call))\n",
    "    \n",
    "    for i in range(size):\n",
    "        # using sklearn resample method for convenience, could also use np.random.choice\n",
    "        data_resample = resample(data)\n",
    "\n",
    "        p1 = data_resample[:len(data1)].sum()/len(data1)\n",
    "        p2 = data_resample[len(data1):].sum()/len(data2)\n",
    "        diff = p1-p2\n",
    "        \n",
    "        bs_replicates[i] = diff\n",
    "        \n",
    "    return bs_replicates\n"
   ]
  },
  {
   "cell_type": "code",
   "execution_count": 31,
   "metadata": {},
   "outputs": [
    {
     "name": "stdout",
     "output_type": "stream",
     "text": [
      "3e-05\n"
     ]
    }
   ],
   "source": [
    "# if the callback rate for black sounding names and white sounding names were identical, the probability of observing\n",
    "# a difference in rates as high as the observed difference would be .00003.\n",
    "size = 100000\n",
    "reps_perm = permutation_sample(w, b, size=size)\n",
    "p_value = np.sum(reps_perm >= rate_diff) / size\n",
    "print(p_value)"
   ]
  },
  {
   "cell_type": "code",
   "execution_count": 18,
   "metadata": {},
   "outputs": [
    {
     "data": {
      "text/plain": [
       "array([-0.01560575,  0.01560575])"
      ]
     },
     "execution_count": 18,
     "metadata": {},
     "output_type": "execute_result"
    }
   ],
   "source": [
    "# and if the callback rates were identical, the 95% confidence interval would narrowly surround 0.\n",
    "conf_int = np.percentile(reps_perm, [2.5, 97.5])\n",
    "conf_int"
   ]
  },
  {
   "cell_type": "code",
   "execution_count": 43,
   "metadata": {},
   "outputs": [
    {
     "name": "stdout",
     "output_type": "stream",
     "text": [
      "2e-05\n"
     ]
    }
   ],
   "source": [
    "# using a bootstrap (rather than permutation) resampling, the pvalue would be .00002\n",
    "reps_bs = bootstrap_sample(w, b, size=size)\n",
    "p_value = np.sum(reps_bs2 >= rate_diff) / size\n",
    "print(p_value)"
   ]
  },
  {
   "cell_type": "code",
   "execution_count": 25,
   "metadata": {},
   "outputs": [
    {
     "data": {
      "text/plain": [
       "array([-0.01519507,  0.01519507])"
      ]
     },
     "execution_count": 25,
     "metadata": {},
     "output_type": "execute_result"
    }
   ],
   "source": [
    "# again, assuming the callback rates were identical, the 95% confidence interval using bootstrap replicates would \n",
    "# narrowly surround 0\n",
    "conf_int = np.percentile(reps_bs2, [2.5, 97.5])\n",
    "conf_int"
   ]
  },
  {
   "cell_type": "code",
   "execution_count": 46,
   "metadata": {},
   "outputs": [
    {
     "name": "stdout",
     "output_type": "stream",
     "text": [
      "[0.01971253 0.04435318]\n"
     ]
    }
   ],
   "source": [
    "# the confidence interval based on boostrap samples of each original w vs b dataset does not include 0:\n",
    "conf = bootstrap_confidence_interval(w, b, alpha=.05)\n",
    "print(conf)"
   ]
  },
  {
   "cell_type": "code",
   "execution_count": 47,
   "metadata": {},
   "outputs": [],
   "source": [
    "# calculate the z-statistic for the difference between proportions\n",
    "import math\n",
    "from scipy.stats import norm\n",
    "\n",
    "def z_stat_proportions(data1, data2):\n",
    "    \"\"\"Calculate z-test statistic for the difference between two proportions\"\"\"\n",
    "\n",
    "    # total callbacks for each dataset\n",
    "    sum1 = sum(data1.call)\n",
    "    sum2 = sum(data2.call)\n",
    "    \n",
    "    # number of observations/applications for each dataset\n",
    "    count1 = len(data1)\n",
    "    count2 = len(data2)\n",
    "    \n",
    "    # proportion of callbacks per application for each dataset\n",
    "    p1 = sum1/count1\n",
    "    p2 = sum2/count2   \n",
    "\n",
    "    # combined proportion\n",
    "    p = (sum1+sum2)/(count1+count2)\n",
    "    \n",
    "    # standard error\n",
    "    se = p*(1-p)*(1/count1+1/count2)\n",
    "    se = math.sqrt(se)\n",
    "    \n",
    "    z = (p1-p2)/se\n",
    "                       \n",
    "    return z\n",
    "\n",
    "\n",
    "def get_pval(z_stat, two_sided=True):\n",
    "    \"\"\"Get the p-value for the given z-statistic\"\"\"\n",
    "    pval = norm.sf(abs(z_stat))\n",
    "    \n",
    "    if two_sided:\n",
    "        pval = pval*2\n",
    "\n",
    "    return pval"
   ]
  },
  {
   "cell_type": "code",
   "execution_count": 48,
   "metadata": {},
   "outputs": [
    {
     "name": "stdout",
     "output_type": "stream",
     "text": [
      "3.983886837585077e-05\n"
     ]
    }
   ],
   "source": [
    "ztest = z_stat_proportions(w,b)\n",
    "pval = get_pval(ztest)\n",
    "print(pval)"
   ]
  },
  {
   "cell_type": "code",
   "execution_count": 49,
   "metadata": {},
   "outputs": [],
   "source": [
    "# margin of error: \n",
    "\n",
    "def margin_of_error_proportions(alpha, p1, n1, p2, n2):\n",
    "    \"\"\"Calculate the margin of error based on alpha and given p1 and p2 proportions and \n",
    "    n1 and n2 number of observations for two datasets\"\"\"\n",
    "    z_alpha = norm.isf(alpha/2)\n",
    "    me = z_alpha * math.sqrt((p1*(1-p1)/n1) + (p2*(1-p2)/n2))\n",
    "    \n",
    "    return me"
   ]
  },
  {
   "cell_type": "code",
   "execution_count": 50,
   "metadata": {},
   "outputs": [
    {
     "name": "stdout",
     "output_type": "stream",
     "text": [
      "(0.01677772818123075, 0.04728798023766042)\n"
     ]
    }
   ],
   "source": [
    "# confidence interval:\n",
    "\n",
    "def confidence_int(margin_of_error, p1, p2):\n",
    "    lower = p1-p2-margin_of_error\n",
    "    upper = p1-p2+margin_of_error\n",
    "    \n",
    "    return (lower, upper)\n",
    "\n",
    "margin_of_error = margin_of_error_proportions(.05, rate_w, count_w, rate_b, count_b)\n",
    "confidence_interval = confidence_int(margin_of_error, rate_w, rate_b)\n",
    "print(confidence_interval)"
   ]
  },
  {
   "cell_type": "markdown",
   "metadata": {},
   "source": [
    "<div class=\"span5 alert alert-success\">\n",
    "<p>Your answers to Q4 and Q5 here</p>\n",
    "</div>"
   ]
  },
  {
   "cell_type": "markdown",
   "metadata": {},
   "source": [
    "#4. The analysis above shows that there is a statistically signficant difference in callback rates based on an applicant's race, which indicates race is an important factor in the labor market.  The difference in callback rates for white sounding names versus black sounding names was 3.2% with a 95% confidence interval of 1.7%-4.7%.  "
   ]
  },
  {
   "cell_type": "markdown",
   "metadata": {},
   "source": [
    "#5. While the analysis shows race is an important factor in the labor market, it does not necessarily mean that it is the most important factor.  In this study, all other factors were equal between the two datasets (black sounding versus white sounding names).  To determine the effect of other factors, these other factors should be subjected to the same treatment and control methods (random assignment of the factor between two groups, keep all other factors equal)."
   ]
  },
  {
   "cell_type": "code",
   "execution_count": null,
   "metadata": {},
   "outputs": [],
   "source": []
  }
 ],
 "metadata": {
  "kernelspec": {
   "display_name": "Python (dena)",
   "language": "python",
   "name": "dena"
  },
  "language_info": {
   "codemirror_mode": {
    "name": "ipython",
    "version": 3
   },
   "file_extension": ".py",
   "mimetype": "text/x-python",
   "name": "python",
   "nbconvert_exporter": "python",
   "pygments_lexer": "ipython3",
   "version": "3.7.2"
  }
 },
 "nbformat": 4,
 "nbformat_minor": 1
}
